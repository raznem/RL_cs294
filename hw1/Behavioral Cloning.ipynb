{
 "cells": [
  {
   "cell_type": "code",
   "execution_count": 3,
   "metadata": {},
   "outputs": [],
   "source": [
    "import numpy as np\n",
    "import torch\n",
    "import torch.nn as nn\n",
    "import matplotlib.pyplot as plt\n",
    "import pickle\n",
    "import pandas as pd"
   ]
  },
  {
   "cell_type": "markdown",
   "metadata": {},
   "source": [
    "## Humanoid v2"
   ]
  },
  {
   "cell_type": "markdown",
   "metadata": {},
   "source": [
    "### Expert performance:\n",
    "returns [10399.465466297353, 10337.698440078071, 10338.03251510115, 10363.347077257335, 10520.142508634532, 10437.992393534745, 10375.590303129682, 10427.51001606666, 10265.334918376444, 10383.854722941793, 10383.34055343508, 10392.749227673174, 10386.273548840532, 10377.634438183406, 10445.100629123428, 10468.288190410423, 10431.12064455722, 10522.290767465352, 10412.97541826066, 10371.666146306461] <br>\n",
    "mean return 10402.020396283677 <br>\n",
    "std of return 58.8302440319096"
   ]
  },
  {
   "cell_type": "code",
   "execution_count": 3,
   "metadata": {},
   "outputs": [],
   "source": [
    "pickle_in = open(\"expert_data/Humanoid-v2.pkl\",\"rb\")\n",
    "humanoid_expert = pickle.load(pickle_in)"
   ]
  },
  {
   "cell_type": "code",
   "execution_count": 4,
   "metadata": {},
   "outputs": [
    {
     "data": {
      "text/plain": [
       "dict_keys(['observations', 'actions'])"
      ]
     },
     "execution_count": 4,
     "metadata": {},
     "output_type": "execute_result"
    }
   ],
   "source": [
    "humanoid_expert.keys()"
   ]
  },
  {
   "cell_type": "code",
   "execution_count": 11,
   "metadata": {
    "scrolled": true
   },
   "outputs": [],
   "source": [
    "observations = humanoid_expert['observations']"
   ]
  },
  {
   "cell_type": "code",
   "execution_count": 12,
   "metadata": {},
   "outputs": [],
   "source": [
    "actions = humanoid_expert['actions']"
   ]
  },
  {
   "cell_type": "markdown",
   "metadata": {},
   "source": [
    "### Define model"
   ]
  },
  {
   "cell_type": "code",
   "execution_count": 13,
   "metadata": {},
   "outputs": [
    {
     "data": {
      "text/plain": [
       "((20000, 376), (20000, 1, 17))"
      ]
     },
     "execution_count": 13,
     "metadata": {},
     "output_type": "execute_result"
    }
   ],
   "source": [
    "observations.shape, actions.shape"
   ]
  },
  {
   "cell_type": "code",
   "execution_count": 16,
   "metadata": {},
   "outputs": [],
   "source": [
    "actions = actions.reshape(-1, 17)"
   ]
  },
  {
   "cell_type": "code",
   "execution_count": 93,
   "metadata": {},
   "outputs": [],
   "source": [
    "NUM_TRAIN = len(observations)\n",
    "\n",
    "observations_tensor = torch.from_numpy(observations).float()\n",
    "actions_tensor = torch.from_numpy(actions).float()\n",
    "dataset = torch.utils.data.TensorDataset(observations_tensor, actions_tensor)\n",
    "loader_train = torch.utils.data.DataLoader(dataset, batch_size=128, \n",
    "                          sampler=torch.utils.data.sampler.SubsetRandomSampler(range(NUM_TRAIN)))"
   ]
  },
  {
   "cell_type": "code",
   "execution_count": 121,
   "metadata": {},
   "outputs": [],
   "source": [
    "def training_loop(loader_train, model, optimizer, epochs=1, print_every=1):\n",
    "    criterion = nn.MSELoss()\n",
    "    for e in range(epochs):\n",
    "        for t, (x, y) in enumerate(loader_train):\n",
    "            model.train()\n",
    "            scores = model(x)\n",
    "            loss = criterion(scores, y)\n",
    "            \n",
    "            optimizer.zero_grad()\n",
    "            loss.backward()\n",
    "            optimizer.step()\n",
    "            \n",
    "        if e % print_every == 0:\n",
    "            print('Epoch %d, loss = %.4f' % (e, loss.item()))\n",
    "    print('Epoch %d, loss = %.4f' % (e, loss.item()))"
   ]
  },
  {
   "cell_type": "code",
   "execution_count": 101,
   "metadata": {},
   "outputs": [],
   "source": [
    "def init_weights(m):\n",
    "    if type(m) == nn.Linear:\n",
    "        torch.nn.init.xavier_uniform_(m.weight)\n",
    "        m.bias.data.fill_(0.01)\n",
    "\n",
    "model = nn.Sequential(\n",
    "    nn.Linear(376, 30),\n",
    "    nn.ReLU(),\n",
    "    nn.Linear(30, 15),\n",
    "    nn.ReLU(),\n",
    "    nn.Linear(15, 17)\n",
    ")\n",
    "\n",
    "model.apply(init_weights)\n",
    "\n",
    "optimizer = torch.optim.Adam(model.parameters(), lr=1e-3)"
   ]
  },
  {
   "cell_type": "code",
   "execution_count": 102,
   "metadata": {
    "scrolled": true
   },
   "outputs": [
    {
     "name": "stdout",
     "output_type": "stream",
     "text": [
      "Epoch 0, loss = 1.2147\n",
      "Epoch 5, loss = 1.1541\n",
      "Epoch 10, loss = 0.8533\n",
      "Epoch 15, loss = 0.8811\n",
      "Epoch 20, loss = 0.7851\n",
      "Epoch 25, loss = 0.8618\n",
      "Epoch 29, loss = 0.6095\n"
     ]
    }
   ],
   "source": [
    "training_loop(loader_train, model, optimizer, epochs=30, print_every=5)"
   ]
  },
  {
   "cell_type": "code",
   "execution_count": 114,
   "metadata": {},
   "outputs": [
    {
     "data": {
      "text/plain": [
       "tensor([-2.9196e-01, -8.6649e-02,  2.1288e-02,  5.7818e-01, -1.5000e-01,\n",
       "        -1.0519e-01,  4.7215e-01, -3.6061e-01,  8.6249e-02,  9.1089e-01,\n",
       "         1.1404e+00, -1.7401e-01, -1.5177e-01,  9.9504e-04,  5.5627e-01,\n",
       "         4.1024e-01, -7.2940e-02], grad_fn=<AddBackward0>)"
      ]
     },
     "execution_count": 114,
     "metadata": {},
     "output_type": "execute_result"
    }
   ],
   "source": [
    "model(observations_tensor[1])"
   ]
  },
  {
   "cell_type": "code",
   "execution_count": 117,
   "metadata": {},
   "outputs": [],
   "source": [
    "torch.save(model, open(\"policies/humanoid_3l_fc.md\", 'wb'))"
   ]
  },
  {
   "cell_type": "code",
   "execution_count": 112,
   "metadata": {},
   "outputs": [],
   "source": [
    "with open(\"policies/humanoid_3l_fc.pkl\", 'wb') as f: \n",
    "    pickle.dump(model, f, pickle.HIGHEST_PROTOCOL)"
   ]
  },
  {
   "cell_type": "markdown",
   "metadata": {},
   "source": [
    "### Model performance:\n",
    "returns [226.90052892567294, 212.3321194289658, 217.80195366576146, 204.62086051618942, 182.3108776594606, 236.57988388099307, 191.89164222695177, 215.00037708242786, 181.21875479360577, 236.3635765411728, 217.53778560875043, 221.21379086735246, 205.28428884513102, 334.3184507917499, 207.5064707678762, 219.45422690228023, 256.09821927536933, 204.7539900068401, 206.02273922400704, 207.93419224419713] <br>\n",
    "mean return 219.25723646273778 <br>\n",
    "std of return 31.578925930927426 <br>"
   ]
  },
  {
   "cell_type": "markdown",
   "metadata": {},
   "source": [
    "## Reacher v2"
   ]
  },
  {
   "cell_type": "markdown",
   "metadata": {},
   "source": [
    "### Expert performance:\n",
    "returns [-4.198410075394117, -1.3188410506994994, -5.7354880391280965, -3.06706735463171, -3.620617467815022, -4.786380708719675, -1.3852393193543773, -3.3516123491724876, -1.2547292814536883, -6.505562306648722, -5.98983699591411, -3.526049717732696, -2.4442175691811974, -4.521031261323542, -6.025657346033555, -3.1225293997079513, -4.643144853035947, -6.123864040766139, -2.9946819433519587, -3.53563183633491] <br>\n",
    "mean return -3.90752964581997 <br>\n",
    "std of return 1.5917489917071845 <br>"
   ]
  },
  {
   "cell_type": "code",
   "execution_count": 118,
   "metadata": {},
   "outputs": [],
   "source": [
    "pickle_in = open(\"expert_data/Reacher-v2.pkl\",\"rb\")\n",
    "reacher_expert = pickle.load(pickle_in)\n",
    "\n",
    "observations = reacher_expert['observations']\n",
    "\n",
    "actions = reacher_expert['actions']\n",
    "\n",
    "observations.shape, actions.shape"
   ]
  },
  {
   "cell_type": "code",
   "execution_count": 123,
   "metadata": {},
   "outputs": [],
   "source": [
    "actions = actions.reshape(-1, 2)"
   ]
  },
  {
   "cell_type": "code",
   "execution_count": 154,
   "metadata": {},
   "outputs": [],
   "source": [
    "NUM_TRAIN = len(observations)\n",
    "\n",
    "observations_tensor = torch.from_numpy(observations).float()\n",
    "actions_tensor = torch.from_numpy(actions).float()\n",
    "dataset = torch.utils.data.TensorDataset(observations_tensor, actions_tensor)\n",
    "loader_train = torch.utils.data.DataLoader(dataset, batch_size=128, \n",
    "                          sampler=torch.utils.data.sampler.SubsetRandomSampler(range(NUM_TRAIN)))"
   ]
  },
  {
   "cell_type": "code",
   "execution_count": 155,
   "metadata": {},
   "outputs": [],
   "source": [
    "model = nn.Sequential(\n",
    "    nn.Linear(11, 30),\n",
    "    nn.ReLU(),\n",
    "    nn.Linear(30, 15),\n",
    "    nn.ReLU(),\n",
    "    nn.Linear(15, 2)\n",
    ")\n",
    "\n",
    "model.apply(init_weights)\n",
    "\n",
    "optimizer = torch.optim.Adam(model.parameters(), lr=1e-3)"
   ]
  },
  {
   "cell_type": "code",
   "execution_count": 156,
   "metadata": {
    "scrolled": true
   },
   "outputs": [
    {
     "name": "stdout",
     "output_type": "stream",
     "text": [
      "Epoch 0, loss = 0.1113\n",
      "Epoch 5, loss = 0.0166\n",
      "Epoch 10, loss = 0.0108\n",
      "Epoch 15, loss = 0.0078\n",
      "Epoch 20, loss = 0.0039\n",
      "Epoch 25, loss = 0.0060\n",
      "Epoch 30, loss = 0.0069\n",
      "Epoch 35, loss = 0.0088\n",
      "Epoch 40, loss = 0.0072\n",
      "Epoch 44, loss = 0.0041\n"
     ]
    }
   ],
   "source": [
    "training_loop(loader_train, model, optimizer, epochs=45, print_every=5)"
   ]
  },
  {
   "cell_type": "code",
   "execution_count": 157,
   "metadata": {},
   "outputs": [
    {
     "data": {
      "text/plain": [
       "tensor([-0.1235, -0.2020], grad_fn=<AddBackward0>)"
      ]
     },
     "execution_count": 157,
     "metadata": {},
     "output_type": "execute_result"
    }
   ],
   "source": [
    "model(observations_tensor[1])"
   ]
  },
  {
   "cell_type": "code",
   "execution_count": 158,
   "metadata": {},
   "outputs": [
    {
     "data": {
      "text/plain": [
       "tensor([-0.2989, -0.3185])"
      ]
     },
     "execution_count": 158,
     "metadata": {},
     "output_type": "execute_result"
    }
   ],
   "source": [
    "actions_tensor[1]"
   ]
  },
  {
   "cell_type": "code",
   "execution_count": 159,
   "metadata": {},
   "outputs": [],
   "source": [
    "torch.save(model, open(\"policies/reacher_3l_fc.md\", 'wb'))"
   ]
  },
  {
   "cell_type": "markdown",
   "metadata": {},
   "source": [
    "### Model performance:\n",
    "returns [-14.307916560565811, -9.077888321317364, -13.208763647245032, -9.222286514236384, -13.518732555193447, -15.503348259528812, -7.9961926282811016, -11.179946908777184, -13.191927016184627, -12.024706431236597, -6.32562905638001, -7.256840410833916, -6.73461669557026, -8.210166523930585, -5.142029045800414, -13.92841154171759, -11.264429763848174, -9.91746506852077, -13.744988381990433, -4.8021436262973936] <br>\n",
    "mean return -10.327921447872793 <br> \n",
    "std of return 3.217880999896169 <br>"
   ]
  },
  {
   "cell_type": "markdown",
   "metadata": {},
   "source": [
    "### More demonstrations"
   ]
  },
  {
   "cell_type": "markdown",
   "metadata": {},
   "source": [
    "### Stats for 100 demonstrations:\n",
    "mean return -3.700508867917537 <br>\n",
    "std of return 1.7148592869182697"
   ]
  },
  {
   "cell_type": "code",
   "execution_count": 160,
   "metadata": {},
   "outputs": [],
   "source": [
    "pickle_in = open(\"expert_data/Reacher-v2.pkl\",\"rb\")\n",
    "reacher_expert = pickle.load(pickle_in)"
   ]
  },
  {
   "cell_type": "code",
   "execution_count": 161,
   "metadata": {
    "scrolled": true
   },
   "outputs": [],
   "source": [
    "observations = reacher_expert['observations']"
   ]
  },
  {
   "cell_type": "code",
   "execution_count": 162,
   "metadata": {},
   "outputs": [],
   "source": [
    "actions = reacher_expert['actions']"
   ]
  },
  {
   "cell_type": "code",
   "execution_count": 163,
   "metadata": {
    "scrolled": true
   },
   "outputs": [
    {
     "data": {
      "text/plain": [
       "((5000, 11), (5000, 1, 2))"
      ]
     },
     "execution_count": 163,
     "metadata": {},
     "output_type": "execute_result"
    }
   ],
   "source": [
    "observations.shape, actions.shape"
   ]
  },
  {
   "cell_type": "code",
   "execution_count": 164,
   "metadata": {},
   "outputs": [],
   "source": [
    "actions = actions.reshape(-1, 2)"
   ]
  },
  {
   "cell_type": "markdown",
   "metadata": {},
   "source": [
    "### Train on all data"
   ]
  },
  {
   "cell_type": "code",
   "execution_count": 165,
   "metadata": {},
   "outputs": [],
   "source": [
    "NUM_TRAIN = len(observations)\n",
    "\n",
    "observations_tensor = torch.from_numpy(observations).float()\n",
    "actions_tensor = torch.from_numpy(actions).float()\n",
    "dataset = torch.utils.data.TensorDataset(observations_tensor, actions_tensor)\n",
    "loader_train = torch.utils.data.DataLoader(dataset, batch_size=128, \n",
    "                          sampler=torch.utils.data.sampler.SubsetRandomSampler(range(NUM_TRAIN)))"
   ]
  },
  {
   "cell_type": "code",
   "execution_count": 166,
   "metadata": {},
   "outputs": [],
   "source": [
    "## Change ReLU on arctang expReLU\n",
    "\n",
    "model = nn.Sequential(\n",
    "    nn.Linear(11, 30),\n",
    "    nn.ReLU(),\n",
    "    nn.Linear(30, 15),\n",
    "    nn.ReLU(),\n",
    "    nn.Linear(15, 2)\n",
    ")\n",
    "\n",
    "model.apply(init_weights)\n",
    "\n",
    "optimizer = torch.optim.Adam(model.parameters(), lr=1e-3)"
   ]
  },
  {
   "cell_type": "code",
   "execution_count": 167,
   "metadata": {
    "scrolled": true
   },
   "outputs": [
    {
     "name": "stdout",
     "output_type": "stream",
     "text": [
      "Epoch 0, loss = 0.0081\n",
      "Epoch 5, loss = 0.0060\n",
      "Epoch 10, loss = 0.0010\n",
      "Epoch 15, loss = 0.0006\n",
      "Epoch 20, loss = 0.0010\n",
      "Epoch 25, loss = 0.0007\n",
      "Epoch 30, loss = 0.0002\n",
      "Epoch 35, loss = 0.0008\n",
      "Epoch 40, loss = 0.0001\n",
      "Epoch 44, loss = 0.0008\n"
     ]
    }
   ],
   "source": [
    "training_loop(loader_train, model, optimizer, epochs=45, print_every=5)"
   ]
  },
  {
   "cell_type": "code",
   "execution_count": 168,
   "metadata": {},
   "outputs": [
    {
     "data": {
      "text/plain": [
       "tensor([0.3352, 0.2521], grad_fn=<AddBackward0>)"
      ]
     },
     "execution_count": 168,
     "metadata": {},
     "output_type": "execute_result"
    }
   ],
   "source": [
    "model(observations_tensor[1])"
   ]
  },
  {
   "cell_type": "code",
   "execution_count": 169,
   "metadata": {},
   "outputs": [
    {
     "data": {
      "text/plain": [
       "tensor([0.3568, 0.2442])"
      ]
     },
     "execution_count": 169,
     "metadata": {},
     "output_type": "execute_result"
    }
   ],
   "source": [
    "actions_tensor[1]"
   ]
  },
  {
   "cell_type": "code",
   "execution_count": 170,
   "metadata": {},
   "outputs": [],
   "source": [
    "torch.save(model, open(\"policies/reacher_3l_fc_100demos.md\", 'wb'))"
   ]
  },
  {
   "cell_type": "markdown",
   "metadata": {},
   "source": [
    "mean return -6.852096058204267 <br>\n",
    "std of return 3.469663395745245"
   ]
  },
  {
   "cell_type": "code",
   "execution_count": 174,
   "metadata": {},
   "outputs": [
    {
     "name": "stdout",
     "output_type": "stream",
     "text": [
      "loading and building expert policy\n",
      "loaded and built\n",
      "/home/raznem/anaconda3/lib/python3.7/site-packages/gym/envs/registration.py:14: PkgResourcesDeprecationWarning: Parameters to load are deprecated.  Call .resolve and .require separately.\n",
      "  result = entry_point.load(False)\n",
      "running build_ext\n",
      "\u001b[33mWARN: gym.spaces.Box autodetected dtype as <class 'numpy.float32'>. Please provide explicit dtype.\u001b[0m\n",
      "\u001b[33mWARN: gym.spaces.Box autodetected dtype as <class 'numpy.float32'>. Please provide explicit dtype.\u001b[0m\n",
      "iter 0\n",
      "iter 1\n",
      "iter 2\n",
      "iter 3\n",
      "iter 4\n",
      "iter 5\n",
      "iter 6\n",
      "iter 7\n",
      "iter 8\n",
      "iter 9\n",
      "iter 10\n",
      "iter 11\n",
      "iter 12\n",
      "iter 13\n",
      "iter 14\n",
      "iter 15\n",
      "iter 16\n",
      "iter 17\n",
      "iter 18\n",
      "iter 19\n",
      "iter 20\n",
      "iter 21\n",
      "iter 22\n",
      "iter 23\n",
      "iter 24\n",
      "iter 25\n",
      "iter 26\n",
      "iter 27\n",
      "iter 28\n",
      "iter 29\n",
      "iter 30\n",
      "iter 31\n",
      "iter 32\n",
      "iter 33\n",
      "iter 34\n",
      "iter 35\n",
      "iter 36\n",
      "iter 37\n",
      "iter 38\n",
      "iter 39\n",
      "iter 40\n",
      "iter 41\n",
      "iter 42\n",
      "iter 43\n",
      "iter 44\n",
      "iter 45\n",
      "iter 46\n",
      "iter 47\n",
      "iter 48\n",
      "iter 49\n",
      "iter 50\n",
      "iter 51\n",
      "iter 52\n",
      "iter 53\n",
      "iter 54\n",
      "iter 55\n",
      "iter 56\n",
      "iter 57\n",
      "iter 58\n",
      "iter 59\n",
      "iter 60\n",
      "iter 61\n",
      "iter 62\n",
      "iter 63\n",
      "iter 64\n",
      "iter 65\n",
      "iter 66\n",
      "iter 67\n",
      "iter 68\n",
      "iter 69\n",
      "iter 70\n",
      "iter 71\n",
      "iter 72\n",
      "iter 73\n",
      "iter 74\n",
      "iter 75\n",
      "iter 76\n",
      "iter 77\n",
      "iter 78\n",
      "iter 79\n",
      "iter 80\n",
      "iter 81\n",
      "iter 82\n",
      "iter 83\n",
      "iter 84\n",
      "iter 85\n",
      "iter 86\n",
      "iter 87\n",
      "iter 88\n",
      "iter 89\n",
      "iter 90\n",
      "iter 91\n",
      "iter 92\n",
      "iter 93\n",
      "iter 94\n",
      "iter 95\n",
      "iter 96\n",
      "iter 97\n",
      "iter 98\n",
      "iter 99\n",
      "returns [-12.41788426380037, -5.700453600336018, -4.453908337365454, -11.764421720659838, -5.233915276118217, -9.402061812416965, -3.4125726525100646, -5.198355719353508, -10.75755991693581, -3.3502607131807096, -1.5722720359478028, -6.237285752581175, -9.82791292365627, -6.501338118599058, -4.996679207403696, -4.277355996772024, -3.437689072525017, -3.331654696225262, -9.643470996887967, -9.498526511348219, -2.604673733232543, -2.460512941390603, -13.488874646682046, -4.687395360429216, -7.55705827567663, -11.168119244502819, -5.651895906266274, -4.678812422479918, -6.204506746312949, -4.083735339561663, -4.652649317434959, -2.011398335588536, -13.079499898499787, -4.949728829212822, -4.839132202929525, -2.8223098141687255, -4.749447574088377, -7.795178090457715, -3.402369487861556, -2.40027313396013, -9.647920039172034, -10.624511002611632, -8.49102135654498, -11.484825489149184, -2.6700726401728057, -6.379493384519236, -2.8916935799252417, -7.178430735251868, -5.249488896049916, -10.177693536715791, -2.203646633470836, -11.411193706683765, -3.2353942448710216, -5.165507820341859, -12.53327157504028, -4.003455543983594, -3.451872871089372, -7.93882102770792, -13.710272542371545, -14.222134807382266, -4.078836868175584, -4.161709755660638, -10.946173647954843, -4.815997520435417, -12.475863735479157, -5.955748215805153, -17.552836953591154, -10.296127788948372, -6.099752742198007, -1.6581845229546308, -10.178521796985814, -5.935395540187061, -6.169509486979359, -4.557848145179947, -9.386909656686548, -7.493468742010349, -6.869683712889446, -6.42385137539436, -9.213803621036789, -8.547355361719301, -10.613737357528944, -11.29243387114196, -3.776278608905099, -14.974612907689078, -11.194050852075538, -3.299070989742768, -3.5872126257672976, -8.991444454794674, -6.264121279085271, -5.283230069011969, -7.852607010010404, -4.9831762537934345, -5.83188745766383, -3.54943536151998, -5.673378141408194, -7.9977123124546665, -4.266843436376482, -4.892558409402072, -6.8859144563344685, -4.208448717033187]\n",
      "mean return -6.852096058204267\n",
      "std of return 3.469663395745245\n"
     ]
    }
   ],
   "source": [
    "!python run_model.py policies/reacher_3l_fc_100demos.md Reacher-v2 --num_rollouts 100"
   ]
  }
 ],
 "metadata": {
  "kernelspec": {
   "display_name": "Python 3",
   "language": "python",
   "name": "python3"
  },
  "language_info": {
   "codemirror_mode": {
    "name": "ipython",
    "version": 3
   },
   "file_extension": ".py",
   "mimetype": "text/x-python",
   "name": "python",
   "nbconvert_exporter": "python",
   "pygments_lexer": "ipython3",
   "version": "3.7.3"
  }
 },
 "nbformat": 4,
 "nbformat_minor": 2
}
